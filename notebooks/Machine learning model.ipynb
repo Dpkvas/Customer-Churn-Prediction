{
 "cells": [
  {
   "cell_type": "code",
   "execution_count": 1,
   "id": "1b8f3b98",
   "metadata": {},
   "outputs": [],
   "source": [
    "# 1. Import Libraries\n",
    "import pandas as pd\n",
    "import numpy as np\n",
    "import matplotlib.pyplot as plt\n",
    "import seaborn as sns\n",
    "\n",
    "from sklearn.model_selection import train_test_split\n",
    "from sklearn.pipeline import Pipeline\n",
    "from sklearn.compose import ColumnTransformer\n",
    "from sklearn.preprocessing import OneHotEncoder\n",
    "from sklearn.ensemble import RandomForestClassifier\n",
    "from sklearn.metrics import classification_report, confusion_matrix, roc_auc_score, ConfusionMatrixDisplay\n"
   ]
  },
  {
   "cell_type": "code",
   "execution_count": 6,
   "id": "480986d9",
   "metadata": {},
   "outputs": [
    {
     "name": "stdout",
     "output_type": "stream",
     "text": [
      "<class 'pandas.core.frame.DataFrame'>\n",
      "RangeIndex: 1000 entries, 0 to 999\n",
      "Data columns (total 18 columns):\n",
      " #   Column                  Non-Null Count  Dtype  \n",
      "---  ------                  --------------  -----  \n",
      " 0   CustomerID              1000 non-null   int64  \n",
      " 1   Age                     1000 non-null   int64  \n",
      " 2   Gender                  1000 non-null   object \n",
      " 3   MaritalStatus           1000 non-null   object \n",
      " 4   IncomeLevel             1000 non-null   object \n",
      " 5   TotalSpend              1000 non-null   float64\n",
      " 6   TransactionCount        1000 non-null   int64  \n",
      " 7   Books                   1000 non-null   float64\n",
      " 8   Clothing                1000 non-null   float64\n",
      " 9   Electronics             1000 non-null   float64\n",
      " 10  Furniture               1000 non-null   float64\n",
      " 11  Groceries               1000 non-null   float64\n",
      " 12  TotalInteractions       1000 non-null   float64\n",
      " 13  UnresolvedInteractions  1000 non-null   float64\n",
      " 14  LastLoginDate           1000 non-null   object \n",
      " 15  LoginFrequency          1000 non-null   int64  \n",
      " 16  ServiceUsage            1000 non-null   object \n",
      " 17  ChurnStatus             1000 non-null   int64  \n",
      "dtypes: float64(8), int64(5), object(5)\n",
      "memory usage: 140.8+ KB\n"
     ]
    },
    {
     "data": {
      "text/html": [
       "<div>\n",
       "<style scoped>\n",
       "    .dataframe tbody tr th:only-of-type {\n",
       "        vertical-align: middle;\n",
       "    }\n",
       "\n",
       "    .dataframe tbody tr th {\n",
       "        vertical-align: top;\n",
       "    }\n",
       "\n",
       "    .dataframe thead th {\n",
       "        text-align: right;\n",
       "    }\n",
       "</style>\n",
       "<table border=\"1\" class=\"dataframe\">\n",
       "  <thead>\n",
       "    <tr style=\"text-align: right;\">\n",
       "      <th></th>\n",
       "      <th>CustomerID</th>\n",
       "      <th>Age</th>\n",
       "      <th>Gender</th>\n",
       "      <th>MaritalStatus</th>\n",
       "      <th>IncomeLevel</th>\n",
       "      <th>TotalSpend</th>\n",
       "      <th>TransactionCount</th>\n",
       "      <th>Books</th>\n",
       "      <th>Clothing</th>\n",
       "      <th>Electronics</th>\n",
       "      <th>Furniture</th>\n",
       "      <th>Groceries</th>\n",
       "      <th>TotalInteractions</th>\n",
       "      <th>UnresolvedInteractions</th>\n",
       "      <th>LastLoginDate</th>\n",
       "      <th>LoginFrequency</th>\n",
       "      <th>ServiceUsage</th>\n",
       "      <th>ChurnStatus</th>\n",
       "    </tr>\n",
       "  </thead>\n",
       "  <tbody>\n",
       "    <tr>\n",
       "      <th>0</th>\n",
       "      <td>1</td>\n",
       "      <td>62</td>\n",
       "      <td>M</td>\n",
       "      <td>Single</td>\n",
       "      <td>Low</td>\n",
       "      <td>416.50</td>\n",
       "      <td>1</td>\n",
       "      <td>0.00</td>\n",
       "      <td>0.00</td>\n",
       "      <td>416.50</td>\n",
       "      <td>0.00</td>\n",
       "      <td>0.00</td>\n",
       "      <td>1.0</td>\n",
       "      <td>0.0</td>\n",
       "      <td>2023-10-21</td>\n",
       "      <td>34</td>\n",
       "      <td>Mobile App</td>\n",
       "      <td>0</td>\n",
       "    </tr>\n",
       "    <tr>\n",
       "      <th>1</th>\n",
       "      <td>2</td>\n",
       "      <td>65</td>\n",
       "      <td>M</td>\n",
       "      <td>Married</td>\n",
       "      <td>Low</td>\n",
       "      <td>1547.42</td>\n",
       "      <td>7</td>\n",
       "      <td>0.00</td>\n",
       "      <td>452.33</td>\n",
       "      <td>794.05</td>\n",
       "      <td>101.31</td>\n",
       "      <td>199.73</td>\n",
       "      <td>1.0</td>\n",
       "      <td>0.0</td>\n",
       "      <td>2023-12-05</td>\n",
       "      <td>5</td>\n",
       "      <td>Website</td>\n",
       "      <td>1</td>\n",
       "    </tr>\n",
       "    <tr>\n",
       "      <th>2</th>\n",
       "      <td>3</td>\n",
       "      <td>18</td>\n",
       "      <td>M</td>\n",
       "      <td>Single</td>\n",
       "      <td>Low</td>\n",
       "      <td>1702.98</td>\n",
       "      <td>6</td>\n",
       "      <td>241.06</td>\n",
       "      <td>51.07</td>\n",
       "      <td>0.00</td>\n",
       "      <td>823.27</td>\n",
       "      <td>587.58</td>\n",
       "      <td>1.0</td>\n",
       "      <td>0.0</td>\n",
       "      <td>2023-11-15</td>\n",
       "      <td>3</td>\n",
       "      <td>Website</td>\n",
       "      <td>0</td>\n",
       "    </tr>\n",
       "    <tr>\n",
       "      <th>3</th>\n",
       "      <td>4</td>\n",
       "      <td>21</td>\n",
       "      <td>M</td>\n",
       "      <td>Widowed</td>\n",
       "      <td>Low</td>\n",
       "      <td>917.29</td>\n",
       "      <td>5</td>\n",
       "      <td>0.00</td>\n",
       "      <td>44.22</td>\n",
       "      <td>367.09</td>\n",
       "      <td>382.39</td>\n",
       "      <td>123.59</td>\n",
       "      <td>2.0</td>\n",
       "      <td>1.0</td>\n",
       "      <td>2023-08-25</td>\n",
       "      <td>2</td>\n",
       "      <td>Website</td>\n",
       "      <td>0</td>\n",
       "    </tr>\n",
       "    <tr>\n",
       "      <th>4</th>\n",
       "      <td>5</td>\n",
       "      <td>21</td>\n",
       "      <td>M</td>\n",
       "      <td>Divorced</td>\n",
       "      <td>Medium</td>\n",
       "      <td>2001.49</td>\n",
       "      <td>8</td>\n",
       "      <td>0.00</td>\n",
       "      <td>0.00</td>\n",
       "      <td>683.54</td>\n",
       "      <td>398.89</td>\n",
       "      <td>919.06</td>\n",
       "      <td>0.0</td>\n",
       "      <td>0.0</td>\n",
       "      <td>2023-10-27</td>\n",
       "      <td>41</td>\n",
       "      <td>Website</td>\n",
       "      <td>0</td>\n",
       "    </tr>\n",
       "  </tbody>\n",
       "</table>\n",
       "</div>"
      ],
      "text/plain": [
       "   CustomerID  Age Gender MaritalStatus IncomeLevel  TotalSpend  \\\n",
       "0           1   62      M        Single         Low      416.50   \n",
       "1           2   65      M       Married         Low     1547.42   \n",
       "2           3   18      M        Single         Low     1702.98   \n",
       "3           4   21      M       Widowed         Low      917.29   \n",
       "4           5   21      M      Divorced      Medium     2001.49   \n",
       "\n",
       "   TransactionCount   Books  Clothing  Electronics  Furniture  Groceries  \\\n",
       "0                 1    0.00      0.00       416.50       0.00       0.00   \n",
       "1                 7    0.00    452.33       794.05     101.31     199.73   \n",
       "2                 6  241.06     51.07         0.00     823.27     587.58   \n",
       "3                 5    0.00     44.22       367.09     382.39     123.59   \n",
       "4                 8    0.00      0.00       683.54     398.89     919.06   \n",
       "\n",
       "   TotalInteractions  UnresolvedInteractions LastLoginDate  LoginFrequency  \\\n",
       "0                1.0                     0.0    2023-10-21              34   \n",
       "1                1.0                     0.0    2023-12-05               5   \n",
       "2                1.0                     0.0    2023-11-15               3   \n",
       "3                2.0                     1.0    2023-08-25               2   \n",
       "4                0.0                     0.0    2023-10-27              41   \n",
       "\n",
       "  ServiceUsage  ChurnStatus  \n",
       "0   Mobile App            0  \n",
       "1      Website            1  \n",
       "2      Website            0  \n",
       "3      Website            0  \n",
       "4      Website            0  "
      ]
     },
     "execution_count": 6,
     "metadata": {},
     "output_type": "execute_result"
    }
   ],
   "source": [
    "# 2. Load Cleaned Data\n",
    "df = pd.read_csv(\"cleaned_customer_data.csv\")\n",
    "\n",
    "# Optional: Preview structure\n",
    "df.info()\n",
    "df.head()"
   ]
  },
  {
   "cell_type": "code",
   "execution_count": 7,
   "id": "fee6967d",
   "metadata": {},
   "outputs": [],
   "source": [
    "# 3. Preprocessing\n",
    "# Drop CustomerID and LastLoginDate\n",
    "df['CustomerID'] = df['CustomerID'].astype(str)\n",
    "df = df.drop(columns=['CustomerID', 'LastLoginDate'])\n",
    "\n",
    "# Separate target variable\n",
    "X = df.drop(columns='ChurnStatus')\n",
    "y = df['ChurnStatus']\n",
    "\n",
    "# Identify categorical and numeric columns\n",
    "categorical_cols = X.select_dtypes(include='object').columns.tolist()\n",
    "numeric_cols = X.select_dtypes(include=['int64', 'float64']).columns.tolist()"
   ]
  },
  {
   "cell_type": "code",
   "execution_count": 8,
   "id": "df09e803",
   "metadata": {},
   "outputs": [],
   "source": [
    "# 4. Build Preprocessing + Model Pipeline\n",
    "preprocessor = ColumnTransformer(\n",
    "    transformers=[\n",
    "        ('cat', OneHotEncoder(handle_unknown='ignore'), categorical_cols)\n",
    "    ],\n",
    "    remainder='passthrough'  # Leave numeric columns unchanged\n",
    ")\n",
    "\n",
    "model_pipeline = Pipeline(steps=[\n",
    "    ('preprocessor', preprocessor),\n",
    "    ('classifier', RandomForestClassifier(random_state=42))\n",
    "])"
   ]
  },
  {
   "cell_type": "code",
   "execution_count": 9,
   "id": "815f5725",
   "metadata": {},
   "outputs": [
    {
     "data": {
      "text/html": [
       "<style>#sk-container-id-1 {color: black;background-color: white;}#sk-container-id-1 pre{padding: 0;}#sk-container-id-1 div.sk-toggleable {background-color: white;}#sk-container-id-1 label.sk-toggleable__label {cursor: pointer;display: block;width: 100%;margin-bottom: 0;padding: 0.3em;box-sizing: border-box;text-align: center;}#sk-container-id-1 label.sk-toggleable__label-arrow:before {content: \"▸\";float: left;margin-right: 0.25em;color: #696969;}#sk-container-id-1 label.sk-toggleable__label-arrow:hover:before {color: black;}#sk-container-id-1 div.sk-estimator:hover label.sk-toggleable__label-arrow:before {color: black;}#sk-container-id-1 div.sk-toggleable__content {max-height: 0;max-width: 0;overflow: hidden;text-align: left;background-color: #f0f8ff;}#sk-container-id-1 div.sk-toggleable__content pre {margin: 0.2em;color: black;border-radius: 0.25em;background-color: #f0f8ff;}#sk-container-id-1 input.sk-toggleable__control:checked~div.sk-toggleable__content {max-height: 200px;max-width: 100%;overflow: auto;}#sk-container-id-1 input.sk-toggleable__control:checked~label.sk-toggleable__label-arrow:before {content: \"▾\";}#sk-container-id-1 div.sk-estimator input.sk-toggleable__control:checked~label.sk-toggleable__label {background-color: #d4ebff;}#sk-container-id-1 div.sk-label input.sk-toggleable__control:checked~label.sk-toggleable__label {background-color: #d4ebff;}#sk-container-id-1 input.sk-hidden--visually {border: 0;clip: rect(1px 1px 1px 1px);clip: rect(1px, 1px, 1px, 1px);height: 1px;margin: -1px;overflow: hidden;padding: 0;position: absolute;width: 1px;}#sk-container-id-1 div.sk-estimator {font-family: monospace;background-color: #f0f8ff;border: 1px dotted black;border-radius: 0.25em;box-sizing: border-box;margin-bottom: 0.5em;}#sk-container-id-1 div.sk-estimator:hover {background-color: #d4ebff;}#sk-container-id-1 div.sk-parallel-item::after {content: \"\";width: 100%;border-bottom: 1px solid gray;flex-grow: 1;}#sk-container-id-1 div.sk-label:hover label.sk-toggleable__label {background-color: #d4ebff;}#sk-container-id-1 div.sk-serial::before {content: \"\";position: absolute;border-left: 1px solid gray;box-sizing: border-box;top: 0;bottom: 0;left: 50%;z-index: 0;}#sk-container-id-1 div.sk-serial {display: flex;flex-direction: column;align-items: center;background-color: white;padding-right: 0.2em;padding-left: 0.2em;position: relative;}#sk-container-id-1 div.sk-item {position: relative;z-index: 1;}#sk-container-id-1 div.sk-parallel {display: flex;align-items: stretch;justify-content: center;background-color: white;position: relative;}#sk-container-id-1 div.sk-item::before, #sk-container-id-1 div.sk-parallel-item::before {content: \"\";position: absolute;border-left: 1px solid gray;box-sizing: border-box;top: 0;bottom: 0;left: 50%;z-index: -1;}#sk-container-id-1 div.sk-parallel-item {display: flex;flex-direction: column;z-index: 1;position: relative;background-color: white;}#sk-container-id-1 div.sk-parallel-item:first-child::after {align-self: flex-end;width: 50%;}#sk-container-id-1 div.sk-parallel-item:last-child::after {align-self: flex-start;width: 50%;}#sk-container-id-1 div.sk-parallel-item:only-child::after {width: 0;}#sk-container-id-1 div.sk-dashed-wrapped {border: 1px dashed gray;margin: 0 0.4em 0.5em 0.4em;box-sizing: border-box;padding-bottom: 0.4em;background-color: white;}#sk-container-id-1 div.sk-label label {font-family: monospace;font-weight: bold;display: inline-block;line-height: 1.2em;}#sk-container-id-1 div.sk-label-container {text-align: center;}#sk-container-id-1 div.sk-container {/* jupyter's `normalize.less` sets `[hidden] { display: none; }` but bootstrap.min.css set `[hidden] { display: none !important; }` so we also need the `!important` here to be able to override the default hidden behavior on the sphinx rendered scikit-learn.org. See: https://github.com/scikit-learn/scikit-learn/issues/21755 */display: inline-block !important;position: relative;}#sk-container-id-1 div.sk-text-repr-fallback {display: none;}</style><div id=\"sk-container-id-1\" class=\"sk-top-container\"><div class=\"sk-text-repr-fallback\"><pre>Pipeline(steps=[(&#x27;preprocessor&#x27;,\n",
       "                 ColumnTransformer(remainder=&#x27;passthrough&#x27;,\n",
       "                                   transformers=[(&#x27;cat&#x27;,\n",
       "                                                  OneHotEncoder(handle_unknown=&#x27;ignore&#x27;),\n",
       "                                                  [&#x27;Gender&#x27;, &#x27;MaritalStatus&#x27;,\n",
       "                                                   &#x27;IncomeLevel&#x27;,\n",
       "                                                   &#x27;ServiceUsage&#x27;])])),\n",
       "                (&#x27;classifier&#x27;, RandomForestClassifier(random_state=42))])</pre><b>In a Jupyter environment, please rerun this cell to show the HTML representation or trust the notebook. <br />On GitHub, the HTML representation is unable to render, please try loading this page with nbviewer.org.</b></div><div class=\"sk-container\" hidden><div class=\"sk-item sk-dashed-wrapped\"><div class=\"sk-label-container\"><div class=\"sk-label sk-toggleable\"><input class=\"sk-toggleable__control sk-hidden--visually\" id=\"sk-estimator-id-1\" type=\"checkbox\" ><label for=\"sk-estimator-id-1\" class=\"sk-toggleable__label sk-toggleable__label-arrow\">Pipeline</label><div class=\"sk-toggleable__content\"><pre>Pipeline(steps=[(&#x27;preprocessor&#x27;,\n",
       "                 ColumnTransformer(remainder=&#x27;passthrough&#x27;,\n",
       "                                   transformers=[(&#x27;cat&#x27;,\n",
       "                                                  OneHotEncoder(handle_unknown=&#x27;ignore&#x27;),\n",
       "                                                  [&#x27;Gender&#x27;, &#x27;MaritalStatus&#x27;,\n",
       "                                                   &#x27;IncomeLevel&#x27;,\n",
       "                                                   &#x27;ServiceUsage&#x27;])])),\n",
       "                (&#x27;classifier&#x27;, RandomForestClassifier(random_state=42))])</pre></div></div></div><div class=\"sk-serial\"><div class=\"sk-item sk-dashed-wrapped\"><div class=\"sk-label-container\"><div class=\"sk-label sk-toggleable\"><input class=\"sk-toggleable__control sk-hidden--visually\" id=\"sk-estimator-id-2\" type=\"checkbox\" ><label for=\"sk-estimator-id-2\" class=\"sk-toggleable__label sk-toggleable__label-arrow\">preprocessor: ColumnTransformer</label><div class=\"sk-toggleable__content\"><pre>ColumnTransformer(remainder=&#x27;passthrough&#x27;,\n",
       "                  transformers=[(&#x27;cat&#x27;, OneHotEncoder(handle_unknown=&#x27;ignore&#x27;),\n",
       "                                 [&#x27;Gender&#x27;, &#x27;MaritalStatus&#x27;, &#x27;IncomeLevel&#x27;,\n",
       "                                  &#x27;ServiceUsage&#x27;])])</pre></div></div></div><div class=\"sk-parallel\"><div class=\"sk-parallel-item\"><div class=\"sk-item\"><div class=\"sk-label-container\"><div class=\"sk-label sk-toggleable\"><input class=\"sk-toggleable__control sk-hidden--visually\" id=\"sk-estimator-id-3\" type=\"checkbox\" ><label for=\"sk-estimator-id-3\" class=\"sk-toggleable__label sk-toggleable__label-arrow\">cat</label><div class=\"sk-toggleable__content\"><pre>[&#x27;Gender&#x27;, &#x27;MaritalStatus&#x27;, &#x27;IncomeLevel&#x27;, &#x27;ServiceUsage&#x27;]</pre></div></div></div><div class=\"sk-serial\"><div class=\"sk-item\"><div class=\"sk-estimator sk-toggleable\"><input class=\"sk-toggleable__control sk-hidden--visually\" id=\"sk-estimator-id-4\" type=\"checkbox\" ><label for=\"sk-estimator-id-4\" class=\"sk-toggleable__label sk-toggleable__label-arrow\">OneHotEncoder</label><div class=\"sk-toggleable__content\"><pre>OneHotEncoder(handle_unknown=&#x27;ignore&#x27;)</pre></div></div></div></div></div></div><div class=\"sk-parallel-item\"><div class=\"sk-item\"><div class=\"sk-label-container\"><div class=\"sk-label sk-toggleable\"><input class=\"sk-toggleable__control sk-hidden--visually\" id=\"sk-estimator-id-5\" type=\"checkbox\" ><label for=\"sk-estimator-id-5\" class=\"sk-toggleable__label sk-toggleable__label-arrow\">remainder</label><div class=\"sk-toggleable__content\"><pre>[&#x27;Age&#x27;, &#x27;TotalSpend&#x27;, &#x27;TransactionCount&#x27;, &#x27;Books&#x27;, &#x27;Clothing&#x27;, &#x27;Electronics&#x27;, &#x27;Furniture&#x27;, &#x27;Groceries&#x27;, &#x27;TotalInteractions&#x27;, &#x27;UnresolvedInteractions&#x27;, &#x27;LoginFrequency&#x27;]</pre></div></div></div><div class=\"sk-serial\"><div class=\"sk-item\"><div class=\"sk-estimator sk-toggleable\"><input class=\"sk-toggleable__control sk-hidden--visually\" id=\"sk-estimator-id-6\" type=\"checkbox\" ><label for=\"sk-estimator-id-6\" class=\"sk-toggleable__label sk-toggleable__label-arrow\">passthrough</label><div class=\"sk-toggleable__content\"><pre>passthrough</pre></div></div></div></div></div></div></div></div><div class=\"sk-item\"><div class=\"sk-estimator sk-toggleable\"><input class=\"sk-toggleable__control sk-hidden--visually\" id=\"sk-estimator-id-7\" type=\"checkbox\" ><label for=\"sk-estimator-id-7\" class=\"sk-toggleable__label sk-toggleable__label-arrow\">RandomForestClassifier</label><div class=\"sk-toggleable__content\"><pre>RandomForestClassifier(random_state=42)</pre></div></div></div></div></div></div></div>"
      ],
      "text/plain": [
       "Pipeline(steps=[('preprocessor',\n",
       "                 ColumnTransformer(remainder='passthrough',\n",
       "                                   transformers=[('cat',\n",
       "                                                  OneHotEncoder(handle_unknown='ignore'),\n",
       "                                                  ['Gender', 'MaritalStatus',\n",
       "                                                   'IncomeLevel',\n",
       "                                                   'ServiceUsage'])])),\n",
       "                ('classifier', RandomForestClassifier(random_state=42))])"
      ]
     },
     "execution_count": 9,
     "metadata": {},
     "output_type": "execute_result"
    }
   ],
   "source": [
    "# 5. Train-Test Split\n",
    "X_train, X_test, y_train, y_test = train_test_split(\n",
    "    X, y, test_size=0.2, stratify=y, random_state=42\n",
    ")\n",
    "\n",
    "# 6. Train the Model\n",
    "model_pipeline.fit(X_train, y_train)"
   ]
  },
  {
   "cell_type": "code",
   "execution_count": 10,
   "id": "548366e6",
   "metadata": {},
   "outputs": [],
   "source": [
    "# 7. Make Predictions\n",
    "y_pred = model_pipeline.predict(X_test)\n",
    "y_proba = model_pipeline.predict_proba(X_test)[:, 1]"
   ]
  },
  {
   "cell_type": "code",
   "execution_count": 11,
   "id": "c8d6e3d9",
   "metadata": {},
   "outputs": [
    {
     "name": "stdout",
     "output_type": "stream",
     "text": [
      "📊 Classification Report:\n",
      "              precision    recall  f1-score   support\n",
      "\n",
      "           0       0.80      0.99      0.89       159\n",
      "           1       0.67      0.05      0.09        41\n",
      "\n",
      "    accuracy                           0.80       200\n",
      "   macro avg       0.73      0.52      0.49       200\n",
      "weighted avg       0.77      0.80      0.72       200\n",
      "\n",
      "📊 Confusion Matrix:\n"
     ]
    },
    {
     "data": {
      "image/png": "[encoded data removed]",
      "text/plain": [
       "<Figure size 432x288 with 2 Axes>"
      ]
     },
     "metadata": {
      "needs_background": "light"
     },
     "output_type": "display_data"
    },
    {
     "name": "stdout",
     "output_type": "stream",
     "text": [
      "📈 ROC-AUC Score: 0.517\n"
     ]
    }
   ],
   "source": [
    "# 8. Evaluation Metrics\n",
    "print(\"📊 Classification Report:\")\n",
    "print(classification_report(y_test, y_pred))\n",
    "\n",
    "print(\"📊 Confusion Matrix:\")\n",
    "cm = confusion_matrix(y_test, y_pred)\n",
    "disp = ConfusionMatrixDisplay(confusion_matrix=cm, display_labels=model_pipeline.classes_)\n",
    "disp.plot(cmap='Blues')\n",
    "plt.show()\n",
    "\n",
    "roc_auc = roc_auc_score(y_test, y_proba)\n",
    "print(f\"📈 ROC-AUC Score: {roc_auc:.3f}\")"
   ]
  },
  {
   "cell_type": "code",
   "execution_count": 12,
   "id": "aff7aea5",
   "metadata": {},
   "outputs": [],
   "source": [
    "# 9. Feature Importance (Optional)\n",
    "# Get feature names after one-hot encoding\n",
    "encoded_features = model_pipeline.named_steps['preprocessor'] \\\n",
    "    .named_transformers_['cat'].get_feature_names_out(categorical_cols)\n",
    "all_features = list(encoded_features) + numeric_cols\n",
    "\n",
    "# Get feature importances from the Random Forest\n",
    "importances = model_pipeline.named_steps['classifier'].feature_importances_\n",
    "feature_importance_df = pd.DataFrame({'Feature': all_features, 'Importance': importances})\n",
    "feature_importance_df = feature_importance_df.sort_values(by='Importance', ascending=False)"
   ]
  },
  {
   "cell_type": "code",
   "execution_count": 13,
   "id": "773d2e63",
   "metadata": {},
   "outputs": [
    {
     "data": {
      "image/png": "[encoded data removed]",
      "text/plain": [
       "<Figure size 432x288 with 1 Axes>"
      ]
     },
     "metadata": {
      "needs_background": "light"
     },
     "output_type": "display_data"
    }
   ],
   "source": [
    "# Plot top 10 features\n",
    "sns.barplot(data=feature_importance_df.head(10), x='Importance', y='Feature')\n",
    "plt.title('Top 10 Important Features')\n",
    "plt.show()"
   ]
  },
  {
   "cell_type": "code",
   "execution_count": null,
   "id": "8199daa9",
   "metadata": {},
   "outputs": [],
   "source": []
  }
 ],
 "metadata": {
  "kernelspec": {
   "display_name": "Python 3",
   "language": "python",
   "name": "python3"
  },
  "language_info": {
   "codemirror_mode": {
    "name": "ipython",
    "version": 3
   },
   "file_extension": ".py",
   "mimetype": "text/x-python",
   "name": "python",
   "nbconvert_exporter": "python",
   "pygments_lexer": "ipython3",
   "version": "3.8.8"
  }
 },
 "nbformat": 4,
 "nbformat_minor": 5
}
